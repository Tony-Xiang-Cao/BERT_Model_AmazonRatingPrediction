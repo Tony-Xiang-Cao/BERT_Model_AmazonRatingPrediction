{
  "nbformat": 4,
  "nbformat_minor": 0,
  "metadata": {
    "colab": {
      "name": "Final_BERT_model_Amazon Prediction_Regression.ipynb",
      "provenance": [],
      "collapsed_sections": [],
      "machine_shape": "hm"
    },
    "kernelspec": {
      "name": "python3",
      "display_name": "Python 3"
    },
    "accelerator": "GPU",
    "widgets": {
      "application/vnd.jupyter.widget-state+json": {
        "c85150edce6443299c7d49d1fba17b9b": {
          "model_module": "@jupyter-widgets/controls",
          "model_name": "HBoxModel",
          "state": {
            "_view_name": "HBoxView",
            "_dom_classes": [],
            "_model_name": "HBoxModel",
            "_view_module": "@jupyter-widgets/controls",
            "_model_module_version": "1.5.0",
            "_view_count": null,
            "_view_module_version": "1.5.0",
            "box_style": "",
            "layout": "IPY_MODEL_76658753ce9946f39d6605b5c1b69276",
            "_model_module": "@jupyter-widgets/controls",
            "children": [
              "IPY_MODEL_ba7b1a141e894da29a78e963430e349f",
              "IPY_MODEL_b744d24e9d514bf9a0870836dd8a88d7"
            ]
          }
        },
        "76658753ce9946f39d6605b5c1b69276": {
          "model_module": "@jupyter-widgets/base",
          "model_name": "LayoutModel",
          "state": {
            "_view_name": "LayoutView",
            "grid_template_rows": null,
            "right": null,
            "justify_content": null,
            "_view_module": "@jupyter-widgets/base",
            "overflow": null,
            "_model_module_version": "1.2.0",
            "_view_count": null,
            "flex_flow": null,
            "width": null,
            "min_width": null,
            "border": null,
            "align_items": null,
            "bottom": null,
            "_model_module": "@jupyter-widgets/base",
            "top": null,
            "grid_column": null,
            "overflow_y": null,
            "overflow_x": null,
            "grid_auto_flow": null,
            "grid_area": null,
            "grid_template_columns": null,
            "flex": null,
            "_model_name": "LayoutModel",
            "justify_items": null,
            "grid_row": null,
            "max_height": null,
            "align_content": null,
            "visibility": null,
            "align_self": null,
            "height": null,
            "min_height": null,
            "padding": null,
            "grid_auto_rows": null,
            "grid_gap": null,
            "max_width": null,
            "order": null,
            "_view_module_version": "1.2.0",
            "grid_template_areas": null,
            "object_position": null,
            "object_fit": null,
            "grid_auto_columns": null,
            "margin": null,
            "display": null,
            "left": null
          }
        },
        "ba7b1a141e894da29a78e963430e349f": {
          "model_module": "@jupyter-widgets/controls",
          "model_name": "FloatProgressModel",
          "state": {
            "_view_name": "ProgressView",
            "style": "IPY_MODEL_7dc23675909c4cdbb90bb644d2438e60",
            "_dom_classes": [],
            "description": "Downloading: 100%",
            "_model_name": "FloatProgressModel",
            "bar_style": "success",
            "max": 625,
            "_view_module": "@jupyter-widgets/controls",
            "_model_module_version": "1.5.0",
            "value": 625,
            "_view_count": null,
            "_view_module_version": "1.5.0",
            "orientation": "horizontal",
            "min": 0,
            "description_tooltip": null,
            "_model_module": "@jupyter-widgets/controls",
            "layout": "IPY_MODEL_4030c9aad5594075bd02a6b7efb8eaca"
          }
        },
        "b744d24e9d514bf9a0870836dd8a88d7": {
          "model_module": "@jupyter-widgets/controls",
          "model_name": "HTMLModel",
          "state": {
            "_view_name": "HTMLView",
            "style": "IPY_MODEL_6ccb37cd01084c39bb49a07a2f3a1d64",
            "_dom_classes": [],
            "description": "",
            "_model_name": "HTMLModel",
            "placeholder": "​",
            "_view_module": "@jupyter-widgets/controls",
            "_model_module_version": "1.5.0",
            "value": " 625/625 [00:00&lt;00:00, 811B/s]",
            "_view_count": null,
            "_view_module_version": "1.5.0",
            "description_tooltip": null,
            "_model_module": "@jupyter-widgets/controls",
            "layout": "IPY_MODEL_2111326126bc40d2aa98a412ded97de5"
          }
        },
        "7dc23675909c4cdbb90bb644d2438e60": {
          "model_module": "@jupyter-widgets/controls",
          "model_name": "ProgressStyleModel",
          "state": {
            "_view_name": "StyleView",
            "_model_name": "ProgressStyleModel",
            "description_width": "initial",
            "_view_module": "@jupyter-widgets/base",
            "_model_module_version": "1.5.0",
            "_view_count": null,
            "_view_module_version": "1.2.0",
            "bar_color": null,
            "_model_module": "@jupyter-widgets/controls"
          }
        },
        "4030c9aad5594075bd02a6b7efb8eaca": {
          "model_module": "@jupyter-widgets/base",
          "model_name": "LayoutModel",
          "state": {
            "_view_name": "LayoutView",
            "grid_template_rows": null,
            "right": null,
            "justify_content": null,
            "_view_module": "@jupyter-widgets/base",
            "overflow": null,
            "_model_module_version": "1.2.0",
            "_view_count": null,
            "flex_flow": null,
            "width": null,
            "min_width": null,
            "border": null,
            "align_items": null,
            "bottom": null,
            "_model_module": "@jupyter-widgets/base",
            "top": null,
            "grid_column": null,
            "overflow_y": null,
            "overflow_x": null,
            "grid_auto_flow": null,
            "grid_area": null,
            "grid_template_columns": null,
            "flex": null,
            "_model_name": "LayoutModel",
            "justify_items": null,
            "grid_row": null,
            "max_height": null,
            "align_content": null,
            "visibility": null,
            "align_self": null,
            "height": null,
            "min_height": null,
            "padding": null,
            "grid_auto_rows": null,
            "grid_gap": null,
            "max_width": null,
            "order": null,
            "_view_module_version": "1.2.0",
            "grid_template_areas": null,
            "object_position": null,
            "object_fit": null,
            "grid_auto_columns": null,
            "margin": null,
            "display": null,
            "left": null
          }
        },
        "6ccb37cd01084c39bb49a07a2f3a1d64": {
          "model_module": "@jupyter-widgets/controls",
          "model_name": "DescriptionStyleModel",
          "state": {
            "_view_name": "StyleView",
            "_model_name": "DescriptionStyleModel",
            "description_width": "",
            "_view_module": "@jupyter-widgets/base",
            "_model_module_version": "1.5.0",
            "_view_count": null,
            "_view_module_version": "1.2.0",
            "_model_module": "@jupyter-widgets/controls"
          }
        },
        "2111326126bc40d2aa98a412ded97de5": {
          "model_module": "@jupyter-widgets/base",
          "model_name": "LayoutModel",
          "state": {
            "_view_name": "LayoutView",
            "grid_template_rows": null,
            "right": null,
            "justify_content": null,
            "_view_module": "@jupyter-widgets/base",
            "overflow": null,
            "_model_module_version": "1.2.0",
            "_view_count": null,
            "flex_flow": null,
            "width": null,
            "min_width": null,
            "border": null,
            "align_items": null,
            "bottom": null,
            "_model_module": "@jupyter-widgets/base",
            "top": null,
            "grid_column": null,
            "overflow_y": null,
            "overflow_x": null,
            "grid_auto_flow": null,
            "grid_area": null,
            "grid_template_columns": null,
            "flex": null,
            "_model_name": "LayoutModel",
            "justify_items": null,
            "grid_row": null,
            "max_height": null,
            "align_content": null,
            "visibility": null,
            "align_self": null,
            "height": null,
            "min_height": null,
            "padding": null,
            "grid_auto_rows": null,
            "grid_gap": null,
            "max_width": null,
            "order": null,
            "_view_module_version": "1.2.0",
            "grid_template_areas": null,
            "object_position": null,
            "object_fit": null,
            "grid_auto_columns": null,
            "margin": null,
            "display": null,
            "left": null
          }
        },
        "584c5142bbbb4e64a5469275ca55f044": {
          "model_module": "@jupyter-widgets/controls",
          "model_name": "HBoxModel",
          "state": {
            "_view_name": "HBoxView",
            "_dom_classes": [],
            "_model_name": "HBoxModel",
            "_view_module": "@jupyter-widgets/controls",
            "_model_module_version": "1.5.0",
            "_view_count": null,
            "_view_module_version": "1.5.0",
            "box_style": "",
            "layout": "IPY_MODEL_4d0462dce1c64afab7a9bb616732020e",
            "_model_module": "@jupyter-widgets/controls",
            "children": [
              "IPY_MODEL_7d179489e1f74a5385d0f3008ea828e5",
              "IPY_MODEL_e6d7061e60ce432bb3199f6c8ddbe9a0"
            ]
          }
        },
        "4d0462dce1c64afab7a9bb616732020e": {
          "model_module": "@jupyter-widgets/base",
          "model_name": "LayoutModel",
          "state": {
            "_view_name": "LayoutView",
            "grid_template_rows": null,
            "right": null,
            "justify_content": null,
            "_view_module": "@jupyter-widgets/base",
            "overflow": null,
            "_model_module_version": "1.2.0",
            "_view_count": null,
            "flex_flow": null,
            "width": null,
            "min_width": null,
            "border": null,
            "align_items": null,
            "bottom": null,
            "_model_module": "@jupyter-widgets/base",
            "top": null,
            "grid_column": null,
            "overflow_y": null,
            "overflow_x": null,
            "grid_auto_flow": null,
            "grid_area": null,
            "grid_template_columns": null,
            "flex": null,
            "_model_name": "LayoutModel",
            "justify_items": null,
            "grid_row": null,
            "max_height": null,
            "align_content": null,
            "visibility": null,
            "align_self": null,
            "height": null,
            "min_height": null,
            "padding": null,
            "grid_auto_rows": null,
            "grid_gap": null,
            "max_width": null,
            "order": null,
            "_view_module_version": "1.2.0",
            "grid_template_areas": null,
            "object_position": null,
            "object_fit": null,
            "grid_auto_columns": null,
            "margin": null,
            "display": null,
            "left": null
          }
        },
        "7d179489e1f74a5385d0f3008ea828e5": {
          "model_module": "@jupyter-widgets/controls",
          "model_name": "FloatProgressModel",
          "state": {
            "_view_name": "ProgressView",
            "style": "IPY_MODEL_7bcd48563138432c9da399f2e1673f6c",
            "_dom_classes": [],
            "description": "Downloading: 100%",
            "_model_name": "FloatProgressModel",
            "bar_style": "success",
            "max": 1460062736,
            "_view_module": "@jupyter-widgets/controls",
            "_model_module_version": "1.5.0",
            "value": 1460062736,
            "_view_count": null,
            "_view_module_version": "1.5.0",
            "orientation": "horizontal",
            "min": 0,
            "description_tooltip": null,
            "_model_module": "@jupyter-widgets/controls",
            "layout": "IPY_MODEL_214d51658647439fbb4fa8cd13e5d420"
          }
        },
        "e6d7061e60ce432bb3199f6c8ddbe9a0": {
          "model_module": "@jupyter-widgets/controls",
          "model_name": "HTMLModel",
          "state": {
            "_view_name": "HTMLView",
            "style": "IPY_MODEL_ed731936f526463f97500c7ff2821daa",
            "_dom_classes": [],
            "description": "",
            "_model_name": "HTMLModel",
            "placeholder": "​",
            "_view_module": "@jupyter-widgets/controls",
            "_model_module_version": "1.5.0",
            "value": " 1.46G/1.46G [00:22&lt;00:00, 65.7MB/s]",
            "_view_count": null,
            "_view_module_version": "1.5.0",
            "description_tooltip": null,
            "_model_module": "@jupyter-widgets/controls",
            "layout": "IPY_MODEL_080fa2e59cf9426986eb3baa839b825d"
          }
        },
        "7bcd48563138432c9da399f2e1673f6c": {
          "model_module": "@jupyter-widgets/controls",
          "model_name": "ProgressStyleModel",
          "state": {
            "_view_name": "StyleView",
            "_model_name": "ProgressStyleModel",
            "description_width": "initial",
            "_view_module": "@jupyter-widgets/base",
            "_model_module_version": "1.5.0",
            "_view_count": null,
            "_view_module_version": "1.2.0",
            "bar_color": null,
            "_model_module": "@jupyter-widgets/controls"
          }
        },
        "214d51658647439fbb4fa8cd13e5d420": {
          "model_module": "@jupyter-widgets/base",
          "model_name": "LayoutModel",
          "state": {
            "_view_name": "LayoutView",
            "grid_template_rows": null,
            "right": null,
            "justify_content": null,
            "_view_module": "@jupyter-widgets/base",
            "overflow": null,
            "_model_module_version": "1.2.0",
            "_view_count": null,
            "flex_flow": null,
            "width": null,
            "min_width": null,
            "border": null,
            "align_items": null,
            "bottom": null,
            "_model_module": "@jupyter-widgets/base",
            "top": null,
            "grid_column": null,
            "overflow_y": null,
            "overflow_x": null,
            "grid_auto_flow": null,
            "grid_area": null,
            "grid_template_columns": null,
            "flex": null,
            "_model_name": "LayoutModel",
            "justify_items": null,
            "grid_row": null,
            "max_height": null,
            "align_content": null,
            "visibility": null,
            "align_self": null,
            "height": null,
            "min_height": null,
            "padding": null,
            "grid_auto_rows": null,
            "grid_gap": null,
            "max_width": null,
            "order": null,
            "_view_module_version": "1.2.0",
            "grid_template_areas": null,
            "object_position": null,
            "object_fit": null,
            "grid_auto_columns": null,
            "margin": null,
            "display": null,
            "left": null
          }
        },
        "ed731936f526463f97500c7ff2821daa": {
          "model_module": "@jupyter-widgets/controls",
          "model_name": "DescriptionStyleModel",
          "state": {
            "_view_name": "StyleView",
            "_model_name": "DescriptionStyleModel",
            "description_width": "",
            "_view_module": "@jupyter-widgets/base",
            "_model_module_version": "1.5.0",
            "_view_count": null,
            "_view_module_version": "1.2.0",
            "_model_module": "@jupyter-widgets/controls"
          }
        },
        "080fa2e59cf9426986eb3baa839b825d": {
          "model_module": "@jupyter-widgets/base",
          "model_name": "LayoutModel",
          "state": {
            "_view_name": "LayoutView",
            "grid_template_rows": null,
            "right": null,
            "justify_content": null,
            "_view_module": "@jupyter-widgets/base",
            "overflow": null,
            "_model_module_version": "1.2.0",
            "_view_count": null,
            "flex_flow": null,
            "width": null,
            "min_width": null,
            "border": null,
            "align_items": null,
            "bottom": null,
            "_model_module": "@jupyter-widgets/base",
            "top": null,
            "grid_column": null,
            "overflow_y": null,
            "overflow_x": null,
            "grid_auto_flow": null,
            "grid_area": null,
            "grid_template_columns": null,
            "flex": null,
            "_model_name": "LayoutModel",
            "justify_items": null,
            "grid_row": null,
            "max_height": null,
            "align_content": null,
            "visibility": null,
            "align_self": null,
            "height": null,
            "min_height": null,
            "padding": null,
            "grid_auto_rows": null,
            "grid_gap": null,
            "max_width": null,
            "order": null,
            "_view_module_version": "1.2.0",
            "grid_template_areas": null,
            "object_position": null,
            "object_fit": null,
            "grid_auto_columns": null,
            "margin": null,
            "display": null,
            "left": null
          }
        },
        "37fa1132e84045428cbae3e458f637e4": {
          "model_module": "@jupyter-widgets/controls",
          "model_name": "HBoxModel",
          "state": {
            "_view_name": "HBoxView",
            "_dom_classes": [],
            "_model_name": "HBoxModel",
            "_view_module": "@jupyter-widgets/controls",
            "_model_module_version": "1.5.0",
            "_view_count": null,
            "_view_module_version": "1.5.0",
            "box_style": "",
            "layout": "IPY_MODEL_ba968259065e4289894e232bbadcbddb",
            "_model_module": "@jupyter-widgets/controls",
            "children": [
              "IPY_MODEL_4385f15caa52449ea547ac6fbdfa93cd",
              "IPY_MODEL_8f40662f079b46759ac80073d07dc60f"
            ]
          }
        },
        "ba968259065e4289894e232bbadcbddb": {
          "model_module": "@jupyter-widgets/base",
          "model_name": "LayoutModel",
          "state": {
            "_view_name": "LayoutView",
            "grid_template_rows": null,
            "right": null,
            "justify_content": null,
            "_view_module": "@jupyter-widgets/base",
            "overflow": null,
            "_model_module_version": "1.2.0",
            "_view_count": null,
            "flex_flow": null,
            "width": null,
            "min_width": null,
            "border": null,
            "align_items": null,
            "bottom": null,
            "_model_module": "@jupyter-widgets/base",
            "top": null,
            "grid_column": null,
            "overflow_y": null,
            "overflow_x": null,
            "grid_auto_flow": null,
            "grid_area": null,
            "grid_template_columns": null,
            "flex": null,
            "_model_name": "LayoutModel",
            "justify_items": null,
            "grid_row": null,
            "max_height": null,
            "align_content": null,
            "visibility": null,
            "align_self": null,
            "height": null,
            "min_height": null,
            "padding": null,
            "grid_auto_rows": null,
            "grid_gap": null,
            "max_width": null,
            "order": null,
            "_view_module_version": "1.2.0",
            "grid_template_areas": null,
            "object_position": null,
            "object_fit": null,
            "grid_auto_columns": null,
            "margin": null,
            "display": null,
            "left": null
          }
        },
        "4385f15caa52449ea547ac6fbdfa93cd": {
          "model_module": "@jupyter-widgets/controls",
          "model_name": "FloatProgressModel",
          "state": {
            "_view_name": "ProgressView",
            "style": "IPY_MODEL_94ad2daf15ef4f9287b6063b7fe22b92",
            "_dom_classes": [],
            "description": "Downloading: 100%",
            "_model_name": "FloatProgressModel",
            "bar_style": "success",
            "max": 213450,
            "_view_module": "@jupyter-widgets/controls",
            "_model_module_version": "1.5.0",
            "value": 213450,
            "_view_count": null,
            "_view_module_version": "1.5.0",
            "orientation": "horizontal",
            "min": 0,
            "description_tooltip": null,
            "_model_module": "@jupyter-widgets/controls",
            "layout": "IPY_MODEL_3ea0864eb01f4bec99026825771d4927"
          }
        },
        "8f40662f079b46759ac80073d07dc60f": {
          "model_module": "@jupyter-widgets/controls",
          "model_name": "HTMLModel",
          "state": {
            "_view_name": "HTMLView",
            "style": "IPY_MODEL_51c1c90f5bf946ddb3e2684222bb4c79",
            "_dom_classes": [],
            "description": "",
            "_model_name": "HTMLModel",
            "placeholder": "​",
            "_view_module": "@jupyter-widgets/controls",
            "_model_module_version": "1.5.0",
            "value": " 213k/213k [00:00&lt;00:00, 727kB/s]",
            "_view_count": null,
            "_view_module_version": "1.5.0",
            "description_tooltip": null,
            "_model_module": "@jupyter-widgets/controls",
            "layout": "IPY_MODEL_4faf574ee0e54dbc9da4654a14e35438"
          }
        },
        "94ad2daf15ef4f9287b6063b7fe22b92": {
          "model_module": "@jupyter-widgets/controls",
          "model_name": "ProgressStyleModel",
          "state": {
            "_view_name": "StyleView",
            "_model_name": "ProgressStyleModel",
            "description_width": "initial",
            "_view_module": "@jupyter-widgets/base",
            "_model_module_version": "1.5.0",
            "_view_count": null,
            "_view_module_version": "1.2.0",
            "bar_color": null,
            "_model_module": "@jupyter-widgets/controls"
          }
        },
        "3ea0864eb01f4bec99026825771d4927": {
          "model_module": "@jupyter-widgets/base",
          "model_name": "LayoutModel",
          "state": {
            "_view_name": "LayoutView",
            "grid_template_rows": null,
            "right": null,
            "justify_content": null,
            "_view_module": "@jupyter-widgets/base",
            "overflow": null,
            "_model_module_version": "1.2.0",
            "_view_count": null,
            "flex_flow": null,
            "width": null,
            "min_width": null,
            "border": null,
            "align_items": null,
            "bottom": null,
            "_model_module": "@jupyter-widgets/base",
            "top": null,
            "grid_column": null,
            "overflow_y": null,
            "overflow_x": null,
            "grid_auto_flow": null,
            "grid_area": null,
            "grid_template_columns": null,
            "flex": null,
            "_model_name": "LayoutModel",
            "justify_items": null,
            "grid_row": null,
            "max_height": null,
            "align_content": null,
            "visibility": null,
            "align_self": null,
            "height": null,
            "min_height": null,
            "padding": null,
            "grid_auto_rows": null,
            "grid_gap": null,
            "max_width": null,
            "order": null,
            "_view_module_version": "1.2.0",
            "grid_template_areas": null,
            "object_position": null,
            "object_fit": null,
            "grid_auto_columns": null,
            "margin": null,
            "display": null,
            "left": null
          }
        },
        "51c1c90f5bf946ddb3e2684222bb4c79": {
          "model_module": "@jupyter-widgets/controls",
          "model_name": "DescriptionStyleModel",
          "state": {
            "_view_name": "StyleView",
            "_model_name": "DescriptionStyleModel",
            "description_width": "",
            "_view_module": "@jupyter-widgets/base",
            "_model_module_version": "1.5.0",
            "_view_count": null,
            "_view_module_version": "1.2.0",
            "_model_module": "@jupyter-widgets/controls"
          }
        },
        "4faf574ee0e54dbc9da4654a14e35438": {
          "model_module": "@jupyter-widgets/base",
          "model_name": "LayoutModel",
          "state": {
            "_view_name": "LayoutView",
            "grid_template_rows": null,
            "right": null,
            "justify_content": null,
            "_view_module": "@jupyter-widgets/base",
            "overflow": null,
            "_model_module_version": "1.2.0",
            "_view_count": null,
            "flex_flow": null,
            "width": null,
            "min_width": null,
            "border": null,
            "align_items": null,
            "bottom": null,
            "_model_module": "@jupyter-widgets/base",
            "top": null,
            "grid_column": null,
            "overflow_y": null,
            "overflow_x": null,
            "grid_auto_flow": null,
            "grid_area": null,
            "grid_template_columns": null,
            "flex": null,
            "_model_name": "LayoutModel",
            "justify_items": null,
            "grid_row": null,
            "max_height": null,
            "align_content": null,
            "visibility": null,
            "align_self": null,
            "height": null,
            "min_height": null,
            "padding": null,
            "grid_auto_rows": null,
            "grid_gap": null,
            "max_width": null,
            "order": null,
            "_view_module_version": "1.2.0",
            "grid_template_areas": null,
            "object_position": null,
            "object_fit": null,
            "grid_auto_columns": null,
            "margin": null,
            "display": null,
            "left": null
          }
        }
      }
    }
  },
  "cells": [
    {
      "cell_type": "markdown",
      "metadata": {
        "id": "nFU8ZxUeM7pM"
      },
      "source": [
        "**Installing Transformer for BERT Model and mount google drive for dataset**"
      ]
    },
    {
      "cell_type": "code",
      "metadata": {
        "colab": {
          "base_uri": "https://localhost:8080/"
        },
        "id": "AhHjJRPUxV7D",
        "outputId": "6e39b17e-d2fe-4551-d910-a138d3fb83c0"
      },
      "source": [
        "!pip install transformers"
      ],
      "execution_count": 1,
      "outputs": [
        {
          "output_type": "stream",
          "text": [
            "Collecting transformers\n",
            "\u001b[?25l  Downloading https://files.pythonhosted.org/packages/99/84/7bc03215279f603125d844bf81c3fb3f2d50fe8e511546eb4897e4be2067/transformers-4.0.0-py3-none-any.whl (1.4MB)\n",
            "\u001b[K     |████████████████████████████████| 1.4MB 7.7MB/s \n",
            "\u001b[?25hRequirement already satisfied: regex!=2019.12.17 in /usr/local/lib/python3.6/dist-packages (from transformers) (2019.12.20)\n",
            "Requirement already satisfied: dataclasses; python_version < \"3.7\" in /usr/local/lib/python3.6/dist-packages (from transformers) (0.8)\n",
            "Requirement already satisfied: tqdm>=4.27 in /usr/local/lib/python3.6/dist-packages (from transformers) (4.41.1)\n",
            "Collecting tokenizers==0.9.4\n",
            "\u001b[?25l  Downloading https://files.pythonhosted.org/packages/0f/1c/e789a8b12e28be5bc1ce2156cf87cb522b379be9cadc7ad8091a4cc107c4/tokenizers-0.9.4-cp36-cp36m-manylinux2010_x86_64.whl (2.9MB)\n",
            "\u001b[K     |████████████████████████████████| 2.9MB 24.3MB/s \n",
            "\u001b[?25hRequirement already satisfied: packaging in /usr/local/lib/python3.6/dist-packages (from transformers) (20.4)\n",
            "Requirement already satisfied: numpy in /usr/local/lib/python3.6/dist-packages (from transformers) (1.18.5)\n",
            "Collecting sacremoses\n",
            "\u001b[?25l  Downloading https://files.pythonhosted.org/packages/7d/34/09d19aff26edcc8eb2a01bed8e98f13a1537005d31e95233fd48216eed10/sacremoses-0.0.43.tar.gz (883kB)\n",
            "\u001b[K     |████████████████████████████████| 890kB 64.3MB/s \n",
            "\u001b[?25hRequirement already satisfied: requests in /usr/local/lib/python3.6/dist-packages (from transformers) (2.23.0)\n",
            "Requirement already satisfied: filelock in /usr/local/lib/python3.6/dist-packages (from transformers) (3.0.12)\n",
            "Requirement already satisfied: six in /usr/local/lib/python3.6/dist-packages (from packaging->transformers) (1.15.0)\n",
            "Requirement already satisfied: pyparsing>=2.0.2 in /usr/local/lib/python3.6/dist-packages (from packaging->transformers) (2.4.7)\n",
            "Requirement already satisfied: click in /usr/local/lib/python3.6/dist-packages (from sacremoses->transformers) (7.1.2)\n",
            "Requirement already satisfied: joblib in /usr/local/lib/python3.6/dist-packages (from sacremoses->transformers) (0.17.0)\n",
            "Requirement already satisfied: idna<3,>=2.5 in /usr/local/lib/python3.6/dist-packages (from requests->transformers) (2.10)\n",
            "Requirement already satisfied: urllib3!=1.25.0,!=1.25.1,<1.26,>=1.21.1 in /usr/local/lib/python3.6/dist-packages (from requests->transformers) (1.24.3)\n",
            "Requirement already satisfied: chardet<4,>=3.0.2 in /usr/local/lib/python3.6/dist-packages (from requests->transformers) (3.0.4)\n",
            "Requirement already satisfied: certifi>=2017.4.17 in /usr/local/lib/python3.6/dist-packages (from requests->transformers) (2020.11.8)\n",
            "Building wheels for collected packages: sacremoses\n",
            "  Building wheel for sacremoses (setup.py) ... \u001b[?25l\u001b[?25hdone\n",
            "  Created wheel for sacremoses: filename=sacremoses-0.0.43-cp36-none-any.whl size=893257 sha256=3c30cec419d292e40cafcc25f67df9a1cbd561a96355a2fc0d25326780215f36\n",
            "  Stored in directory: /root/.cache/pip/wheels/29/3c/fd/7ce5c3f0666dab31a50123635e6fb5e19ceb42ce38d4e58f45\n",
            "Successfully built sacremoses\n",
            "Installing collected packages: tokenizers, sacremoses, transformers\n",
            "Successfully installed sacremoses-0.0.43 tokenizers-0.9.4 transformers-4.0.0\n"
          ],
          "name": "stdout"
        }
      ]
    },
    {
      "cell_type": "code",
      "metadata": {
        "colab": {
          "base_uri": "https://localhost:8080/"
        },
        "id": "d0GJRyBsxgY2",
        "outputId": "7a4f7fc2-ac84-47f6-f24a-570429430b93"
      },
      "source": [
        "from google.colab import drive\n",
        "drive.mount('/content/drive')\n",
        "projectFolder = \"./drive/My Drive/Colab Notebooks/AmazonReview\""
      ],
      "execution_count": 4,
      "outputs": [
        {
          "output_type": "stream",
          "text": [
            "Mounted at /content/drive\n"
          ],
          "name": "stdout"
        }
      ]
    },
    {
      "cell_type": "markdown",
      "metadata": {
        "id": "3ruKPUQuyF_G"
      },
      "source": [
        "**LOAD DATASET AND PRE-PROCESS**"
      ]
    },
    {
      "cell_type": "code",
      "metadata": {
        "id": "Dnrd6igEx1NO",
        "colab": {
          "base_uri": "https://localhost:8080/",
          "height": 410
        },
        "outputId": "8f9ba3ee-ec46-4a39-e109-87c51573f4ee"
      },
      "source": [
        "import pandas as pd\n",
        "import os\n",
        "import numpy as np\n",
        "\n",
        "#Load training set, csv file is converted from train.json\n",
        "# pandas dataframe is easier to work with than json format in Tensorflow frame work\n",
        "train = pd.read_csv(os.path.join(projectFolder, \"train_converted.csv\"))\n",
        "\n",
        "# combine several input together, category+summary + user ID + item Id + review text string together. Separate by space.\n",
        "train['reviewText']=train['category'] +' ' + train['summary']+ \" \" + train['reviewerID'] + ' '+train['itemID'] +\" \"+ train['reviewText'] \n",
        "\n",
        "#remove empty review samples\n",
        "train['reviewText'].replace('', np.nan, inplace=True)\n",
        "train.dropna(subset=['reviewText'], inplace=True)\n",
        "train.head(10)"
      ],
      "execution_count": 5,
      "outputs": [
        {
          "output_type": "execute_result",
          "data": {
            "text/html": [
              "<div>\n",
              "<style scoped>\n",
              "    .dataframe tbody tr th:only-of-type {\n",
              "        vertical-align: middle;\n",
              "    }\n",
              "\n",
              "    .dataframe tbody tr th {\n",
              "        vertical-align: top;\n",
              "    }\n",
              "\n",
              "    .dataframe thead th {\n",
              "        text-align: right;\n",
              "    }\n",
              "</style>\n",
              "<table border=\"1\" class=\"dataframe\">\n",
              "  <thead>\n",
              "    <tr style=\"text-align: right;\">\n",
              "      <th></th>\n",
              "      <th>overall</th>\n",
              "      <th>reviewTime</th>\n",
              "      <th>reviewerID</th>\n",
              "      <th>reviewText</th>\n",
              "      <th>summary</th>\n",
              "      <th>unixReviewTime</th>\n",
              "      <th>category</th>\n",
              "      <th>price</th>\n",
              "      <th>itemID</th>\n",
              "      <th>reviewHash</th>\n",
              "    </tr>\n",
              "  </thead>\n",
              "  <tbody>\n",
              "    <tr>\n",
              "      <th>0</th>\n",
              "      <td>4.0</td>\n",
              "      <td>08 24, 2010</td>\n",
              "      <td>u04428712</td>\n",
              "      <td>Pop Amazing that I Actually Bought This...More...</td>\n",
              "      <td>Amazing that I Actually Bought This...More Ama...</td>\n",
              "      <td>1282608000</td>\n",
              "      <td>Pop</td>\n",
              "      <td>$35.93</td>\n",
              "      <td>p70761125</td>\n",
              "      <td>85559980</td>\n",
              "    </tr>\n",
              "    <tr>\n",
              "      <th>1</th>\n",
              "      <td>5.0</td>\n",
              "      <td>10 31, 2009</td>\n",
              "      <td>u06946603</td>\n",
              "      <td>Alternative Rock Excellent album u06946603 p85...</td>\n",
              "      <td>Excellent album</td>\n",
              "      <td>1256947200</td>\n",
              "      <td>Alternative Rock</td>\n",
              "      <td>$11.28</td>\n",
              "      <td>p85427891</td>\n",
              "      <td>41699565</td>\n",
              "    </tr>\n",
              "    <tr>\n",
              "      <th>2</th>\n",
              "      <td>4.0</td>\n",
              "      <td>10 13, 2015</td>\n",
              "      <td>u92735614</td>\n",
              "      <td>Pop Love the Music, Hate the Light Show u92735...</td>\n",
              "      <td>Love the Music, Hate the Light Show</td>\n",
              "      <td>1444694400</td>\n",
              "      <td>Pop</td>\n",
              "      <td>$89.86</td>\n",
              "      <td>p82172532</td>\n",
              "      <td>24751194</td>\n",
              "    </tr>\n",
              "    <tr>\n",
              "      <th>3</th>\n",
              "      <td>5.0</td>\n",
              "      <td>06 28, 2017</td>\n",
              "      <td>u35112935</td>\n",
              "      <td>Pop Great u35112935 p15255251 Finally got it ....</td>\n",
              "      <td>Great</td>\n",
              "      <td>1498608000</td>\n",
              "      <td>Pop</td>\n",
              "      <td>$11.89</td>\n",
              "      <td>p15255251</td>\n",
              "      <td>22820631</td>\n",
              "    </tr>\n",
              "    <tr>\n",
              "      <th>4</th>\n",
              "      <td>4.0</td>\n",
              "      <td>10 12, 2015</td>\n",
              "      <td>u07141505</td>\n",
              "      <td>Jazz Love these guys. u07141505 p82618188 Look...</td>\n",
              "      <td>Love these guys.</td>\n",
              "      <td>1444608000</td>\n",
              "      <td>Jazz</td>\n",
              "      <td>$15.24</td>\n",
              "      <td>p82618188</td>\n",
              "      <td>53377470</td>\n",
              "    </tr>\n",
              "    <tr>\n",
              "      <th>5</th>\n",
              "      <td>5.0</td>\n",
              "      <td>09 7, 2015</td>\n",
              "      <td>u07624734</td>\n",
              "      <td>Pop Five Stars u07624734 p78489708 o.k.</td>\n",
              "      <td>Five Stars</td>\n",
              "      <td>1441584000</td>\n",
              "      <td>Pop</td>\n",
              "      <td>$14.99</td>\n",
              "      <td>p78489708</td>\n",
              "      <td>23609516</td>\n",
              "    </tr>\n",
              "    <tr>\n",
              "      <th>6</th>\n",
              "      <td>5.0</td>\n",
              "      <td>06 25, 2016</td>\n",
              "      <td>u64810771</td>\n",
              "      <td>Jazz Bought this album while sitting at a Bone...</td>\n",
              "      <td>Bought this album while sitting at a Boney Jam...</td>\n",
              "      <td>1466812800</td>\n",
              "      <td>Jazz</td>\n",
              "      <td>$8.73</td>\n",
              "      <td>p58524163</td>\n",
              "      <td>11806672</td>\n",
              "    </tr>\n",
              "    <tr>\n",
              "      <th>7</th>\n",
              "      <td>5.0</td>\n",
              "      <td>03 3, 2016</td>\n",
              "      <td>u88679770</td>\n",
              "      <td>Pop Five Stars u88679770 p92272123 great</td>\n",
              "      <td>Five Stars</td>\n",
              "      <td>1456963200</td>\n",
              "      <td>Pop</td>\n",
              "      <td>$16.98</td>\n",
              "      <td>p92272123</td>\n",
              "      <td>76307426</td>\n",
              "    </tr>\n",
              "    <tr>\n",
              "      <th>8</th>\n",
              "      <td>5.0</td>\n",
              "      <td>12 4, 2013</td>\n",
              "      <td>u77782870</td>\n",
              "      <td>Pop GET IT u77782870 p11658191 Kelly sounds gr...</td>\n",
              "      <td>GET IT</td>\n",
              "      <td>1386115200</td>\n",
              "      <td>Pop</td>\n",
              "      <td>$6.98</td>\n",
              "      <td>p11658191</td>\n",
              "      <td>15086745</td>\n",
              "    </tr>\n",
              "    <tr>\n",
              "      <th>9</th>\n",
              "      <td>5.0</td>\n",
              "      <td>12 19, 2013</td>\n",
              "      <td>u96436250</td>\n",
              "      <td>Classical TWO GREAT CONCERTOS u96436250 p80741...</td>\n",
              "      <td>TWO GREAT CONCERTOS</td>\n",
              "      <td>1387411200</td>\n",
              "      <td>Classical</td>\n",
              "      <td>$28.69</td>\n",
              "      <td>p80741971</td>\n",
              "      <td>23701038</td>\n",
              "    </tr>\n",
              "  </tbody>\n",
              "</table>\n",
              "</div>"
            ],
            "text/plain": [
              "   overall   reviewTime reviewerID  ...   price     itemID  reviewHash\n",
              "0      4.0  08 24, 2010  u04428712  ...  $35.93  p70761125    85559980\n",
              "1      5.0  10 31, 2009  u06946603  ...  $11.28  p85427891    41699565\n",
              "2      4.0  10 13, 2015  u92735614  ...  $89.86  p82172532    24751194\n",
              "3      5.0  06 28, 2017  u35112935  ...  $11.89  p15255251    22820631\n",
              "4      4.0  10 12, 2015  u07141505  ...  $15.24  p82618188    53377470\n",
              "5      5.0   09 7, 2015  u07624734  ...  $14.99  p78489708    23609516\n",
              "6      5.0  06 25, 2016  u64810771  ...   $8.73  p58524163    11806672\n",
              "7      5.0   03 3, 2016  u88679770  ...  $16.98  p92272123    76307426\n",
              "8      5.0   12 4, 2013  u77782870  ...   $6.98  p11658191    15086745\n",
              "9      5.0  12 19, 2013  u96436250  ...  $28.69  p80741971    23701038\n",
              "\n",
              "[10 rows x 10 columns]"
            ]
          },
          "metadata": {
            "tags": []
          },
          "execution_count": 5
        }
      ]
    },
    {
      "cell_type": "markdown",
      "metadata": {
        "id": "uBviwvnh7CHo"
      },
      "source": [
        "**TOKENIZE IF TOKENS NOT ALREADY SAVED, OTHERWISE SKIP THIS STEP AND MOVE TO THE NEXT**"
      ]
    },
    {
      "cell_type": "code",
      "metadata": {
        "id": "1ctSUQhn6jSl",
        "colab": {
          "base_uri": "https://localhost:8080/"
        },
        "outputId": "8bd07e13-15a9-4277-9191-dd5acd7f37c6"
      },
      "source": [
        "# BERT Max Seq. Length\n",
        "SEQ_LEN = 128\n",
        "\n",
        "# Tokenize the input data\n",
        "from transformers import BertTokenizer\n",
        "tokenizer = BertTokenizer.from_pretrained(\"bert-large-cased\")\n",
        "\n",
        "# Apply Tokenizer\n",
        "input_ids = []\n",
        "attention_masks = []\n",
        "labels = []\n",
        "\n",
        "# NEED A MORE EFFICIENT WAY THAN THIS\n",
        "for (idx, row) in train.iterrows():\n",
        "  if row.reviewText != \"\":\n",
        "    sample = tokenizer(row.reviewText, max_length=SEQ_LEN, padding='max_length', truncation=True)\n",
        "    input_ids.append(sample['input_ids'])\n",
        "    attention_masks.append(sample['attention_mask'])\n",
        "    labels.append(row.overall)\n",
        "\n",
        "len(input_ids), len(attention_masks), len(labels)\n",
        "\n",
        "input_ids = np.asarray(input_ids)\n",
        "attention_masks = np.array(attention_masks)\n",
        "labels = np.array(labels)\n",
        "\n",
        "input_ids, attention_masks, labels"
      ],
      "execution_count": null,
      "outputs": [
        {
          "output_type": "execute_result",
          "data": {
            "text/plain": [
              "(array([[  101,  7312, 16035, ...,   119,  2456,   102],\n",
              "        [  101, 13069,  2977, ...,   117,  1105,   102],\n",
              "        [  101,  7312,  2185, ...,  1147,   107,   102],\n",
              "        ...,\n",
              "        [  101, 10018, 22161, ...,  5098,  4035,   102],\n",
              "        [  101, 13069,  2977, ...,     0,     0,     0],\n",
              "        [  101,  7312, 26707, ...,     0,     0,     0]]),\n",
              " array([[1, 1, 1, ..., 1, 1, 1],\n",
              "        [1, 1, 1, ..., 1, 1, 1],\n",
              "        [1, 1, 1, ..., 1, 1, 1],\n",
              "        ...,\n",
              "        [1, 1, 1, ..., 1, 1, 1],\n",
              "        [1, 1, 1, ..., 0, 0, 0],\n",
              "        [1, 1, 1, ..., 0, 0, 0]]),\n",
              " array([4., 5., 4., ..., 3., 5., 5.]))"
            ]
          },
          "metadata": {
            "tags": []
          },
          "execution_count": 10
        }
      ]
    },
    {
      "cell_type": "code",
      "metadata": {
        "id": "MtK42eF0osav"
      },
      "source": [
        "# Save the bert tokens in google drive\n",
        "import pickle\n",
        "\n",
        "pickle_inp_path= os.path.join(projectFolder, \"tokenized/bert_inp5.pkl\")\n",
        "pickle_mask_path= os.path.join(projectFolder, \"tokenized/bert_mask5.pkl\")\n",
        "pickle_label_path= os.path.join(projectFolder, \"tokenized/bert_label5.pkl\")\n",
        "\n",
        "pickle.dump((input_ids),open(pickle_inp_path,'wb'))\n",
        "pickle.dump((attention_masks),open(pickle_mask_path,'wb'))\n",
        "pickle.dump((labels),open(pickle_label_path,'wb'))"
      ],
      "execution_count": null,
      "outputs": []
    },
    {
      "cell_type": "markdown",
      "metadata": {
        "id": "5tddllIY-Spl"
      },
      "source": [
        "**Load previously saved pickle file if the input text feature hasn't changed**"
      ]
    },
    {
      "cell_type": "code",
      "metadata": {
        "id": "-bPS8neB-Zn1",
        "colab": {
          "base_uri": "https://localhost:8080/"
        },
        "outputId": "129ee920-e112-4672-f0cf-be69b89ea587"
      },
      "source": [
        "# Load pickle files previously saved\n",
        "import pickle\n",
        "\n",
        "print('Preparing the pickle file.....')\n",
        "pickle_inp_path= os.path.join(projectFolder, \"tokenized/bert_inp5.pkl\")\n",
        "pickle_mask_path= os.path.join(projectFolder, \"tokenized/bert_mask5.pkl\")\n",
        "pickle_label_path= os.path.join(projectFolder, \"tokenized/bert_label5.pkl\")\n",
        "\n",
        "print('Loading the saved pickle files..')\n",
        "\n",
        "input_ids = pickle.load(open(pickle_inp_path, 'rb'))\n",
        "attention_masks = pickle.load(open(pickle_mask_path, 'rb'))\n",
        "labels = pickle.load(open(pickle_label_path, 'rb'))\n",
        "\n",
        "print('Input shape {} Attention mask shape {} Input label shape {}'.format(input_ids.shape,attention_masks.shape,labels.shape))"
      ],
      "execution_count": 6,
      "outputs": [
        {
          "output_type": "stream",
          "text": [
            "Preparing the pickle file.....\n",
            "Loading the saved pickle files..\n",
            "Input shape (199998, 128) Attention mask shape (199998, 128) Input label shape (199998,)\n"
          ],
          "name": "stdout"
        }
      ]
    },
    {
      "cell_type": "markdown",
      "metadata": {
        "id": "sZd28ZW79Y9s"
      },
      "source": [
        "**SPLIT DATA AND TRAIN**"
      ]
    },
    {
      "cell_type": "code",
      "metadata": {
        "id": "SxZtc6bC8_zb",
        "colab": {
          "base_uri": "https://localhost:8080/"
        },
        "outputId": "83627575-92b4-43ca-8855-58155bfe40e1"
      },
      "source": [
        "from sklearn.model_selection import train_test_split\n",
        "\n",
        "train_x, test_x, train_y, test_y, train_mask, test_mask = train_test_split(input_ids, labels, attention_masks, test_size=0.1)\n",
        "print(train_x.shape, test_x.shape, train_y.shape, test_y.shape, train_mask.shape, test_mask.shape)"
      ],
      "execution_count": 7,
      "outputs": [
        {
          "output_type": "stream",
          "text": [
            "(179998, 128) (20000, 128) (179998,) (20000,) (179998, 128) (20000, 128)\n"
          ],
          "name": "stdout"
        }
      ]
    },
    {
      "cell_type": "code",
      "metadata": {
        "id": "_Ll98CI09bWK",
        "colab": {
          "base_uri": "https://localhost:8080/",
          "height": 739,
          "referenced_widgets": [
            "c85150edce6443299c7d49d1fba17b9b",
            "76658753ce9946f39d6605b5c1b69276",
            "ba7b1a141e894da29a78e963430e349f",
            "b744d24e9d514bf9a0870836dd8a88d7",
            "7dc23675909c4cdbb90bb644d2438e60",
            "4030c9aad5594075bd02a6b7efb8eaca",
            "6ccb37cd01084c39bb49a07a2f3a1d64",
            "2111326126bc40d2aa98a412ded97de5",
            "584c5142bbbb4e64a5469275ca55f044",
            "4d0462dce1c64afab7a9bb616732020e",
            "7d179489e1f74a5385d0f3008ea828e5",
            "e6d7061e60ce432bb3199f6c8ddbe9a0",
            "7bcd48563138432c9da399f2e1673f6c",
            "214d51658647439fbb4fa8cd13e5d420",
            "ed731936f526463f97500c7ff2821daa",
            "080fa2e59cf9426986eb3baa839b825d"
          ]
        },
        "outputId": "c9ed5a05-6a6a-4cfb-c6cd-bbb6cd936689"
      },
      "source": [
        "# Load Model\n",
        "import tensorflow as tf\n",
        "import keras\n",
        "\n",
        "# Num classes\n",
        "NUM_CLASSES = 1\n",
        "\n",
        "from transformers import TFBertForSequenceClassification\n",
        "bert_model = TFBertForSequenceClassification.from_pretrained('bert-large-cased',num_labels=NUM_CLASSES)\n",
        "\n",
        "log_dir = os.path.join(projectFolder, 'tensorboard_data/tb_bert')\n",
        "model_save_path = os.path.join(projectFolder, 'model/model.h5')\n",
        "\n",
        "callbacks = [tf.keras.callbacks.ModelCheckpoint(filepath=model_save_path, save_weights_only=True,\n",
        "                                                monitor='val_loss', mode='min', save_best_only=True), \n",
        "             keras.callbacks.TensorBoard(log_dir=log_dir)]\n",
        "loss = tf.keras.losses.MeanSquaredError()\n",
        "metric = tf.keras.metrics.MeanAbsoluteError('mae')\n",
        "optimizer = tf.keras.optimizers.Adam(learning_rate=2e-5)\n",
        "bert_model.compile(loss=loss, optimizer=optimizer, metrics=[metric])\n",
        "print(bert_model.summary())\n",
        "\n",
        "print('\\nBert Model',bert_model.summary())\n",
        "\n",
        "\n",
        "\n",
        "bert_model.compile(loss=loss,optimizer=optimizer,metrics=[metric])"
      ],
      "execution_count": 8,
      "outputs": [
        {
          "output_type": "display_data",
          "data": {
            "application/vnd.jupyter.widget-view+json": {
              "model_id": "c85150edce6443299c7d49d1fba17b9b",
              "version_minor": 0,
              "version_major": 2
            },
            "text/plain": [
              "HBox(children=(FloatProgress(value=0.0, description='Downloading', max=625.0, style=ProgressStyle(description_…"
            ]
          },
          "metadata": {
            "tags": []
          }
        },
        {
          "output_type": "stream",
          "text": [
            "\n"
          ],
          "name": "stdout"
        },
        {
          "output_type": "display_data",
          "data": {
            "application/vnd.jupyter.widget-view+json": {
              "model_id": "584c5142bbbb4e64a5469275ca55f044",
              "version_minor": 0,
              "version_major": 2
            },
            "text/plain": [
              "HBox(children=(FloatProgress(value=0.0, description='Downloading', max=1460062736.0, style=ProgressStyle(descr…"
            ]
          },
          "metadata": {
            "tags": []
          }
        },
        {
          "output_type": "stream",
          "text": [
            "\n"
          ],
          "name": "stdout"
        },
        {
          "output_type": "stream",
          "text": [
            "Some layers from the model checkpoint at bert-large-cased were not used when initializing TFBertForSequenceClassification: ['mlm___cls', 'nsp___cls']\n",
            "- This IS expected if you are initializing TFBertForSequenceClassification from the checkpoint of a model trained on another task or with another architecture (e.g. initializing a BertForSequenceClassification model from a BertForPreTraining model).\n",
            "- This IS NOT expected if you are initializing TFBertForSequenceClassification from the checkpoint of a model that you expect to be exactly identical (initializing a BertForSequenceClassification model from a BertForSequenceClassification model).\n",
            "Some layers of TFBertForSequenceClassification were not initialized from the model checkpoint at bert-large-cased and are newly initialized: ['classifier', 'dropout_73']\n",
            "You should probably TRAIN this model on a down-stream task to be able to use it for predictions and inference.\n"
          ],
          "name": "stderr"
        },
        {
          "output_type": "stream",
          "text": [
            "Model: \"tf_bert_for_sequence_classification\"\n",
            "_________________________________________________________________\n",
            "Layer (type)                 Output Shape              Param #   \n",
            "=================================================================\n",
            "bert (TFBertMainLayer)       multiple                  333579264 \n",
            "_________________________________________________________________\n",
            "dropout_73 (Dropout)         multiple                  0         \n",
            "_________________________________________________________________\n",
            "classifier (Dense)           multiple                  1025      \n",
            "=================================================================\n",
            "Total params: 333,580,289\n",
            "Trainable params: 333,580,289\n",
            "Non-trainable params: 0\n",
            "_________________________________________________________________\n",
            "None\n",
            "Model: \"tf_bert_for_sequence_classification\"\n",
            "_________________________________________________________________\n",
            "Layer (type)                 Output Shape              Param #   \n",
            "=================================================================\n",
            "bert (TFBertMainLayer)       multiple                  333579264 \n",
            "_________________________________________________________________\n",
            "dropout_73 (Dropout)         multiple                  0         \n",
            "_________________________________________________________________\n",
            "classifier (Dense)           multiple                  1025      \n",
            "=================================================================\n",
            "Total params: 333,580,289\n",
            "Trainable params: 333,580,289\n",
            "Non-trainable params: 0\n",
            "_________________________________________________________________\n",
            "\n",
            "Bert Model None\n"
          ],
          "name": "stdout"
        }
      ]
    },
    {
      "cell_type": "code",
      "metadata": {
        "id": "jvDZ7Ryx-kRb",
        "colab": {
          "base_uri": "https://localhost:8080/"
        },
        "outputId": "dbc6af8b-897c-4508-dafe-3ce1668ec083"
      },
      "source": [
        "#Train BERT Model, 2 epochs is enough as the MSE pleateau in the middle of 2nd epoch.\n",
        "history=bert_model.fit([train_x, train_mask], train_y, batch_size=16, epochs=2, verbose= 1, validation_data=([test_x, test_mask], test_y), callbacks=callbacks)"
      ],
      "execution_count": 9,
      "outputs": [
        {
          "output_type": "stream",
          "text": [
            "Epoch 1/2\n",
            "    1/11250 [..............................] - ETA: 6s - loss: 18.0248 - mae: 4.0548WARNING:tensorflow:From /usr/local/lib/python3.6/dist-packages/tensorflow/python/ops/summary_ops_v2.py:1277: stop (from tensorflow.python.eager.profiler) is deprecated and will be removed after 2020-07-01.\n",
            "Instructions for updating:\n",
            "use `tf.profiler.experimental.stop` instead.\n",
            "11250/11250 [==============================] - ETA: 0s - loss: 0.4158 - mae: 0.4252WARNING:tensorflow:Callbacks method `on_test_batch_end` is slow compared to the batch time (batch time: 0.0463s vs `on_test_batch_end` time: 0.2138s). Check your callbacks.\n",
            "11250/11250 [==============================] - 9499s 844ms/step - loss: 0.4158 - mae: 0.4252 - val_loss: 0.3545 - val_mae: 0.3838\n",
            "Epoch 2/2\n",
            "11250/11250 [==============================] - 9472s 842ms/step - loss: 0.3012 - mae: 0.3607 - val_loss: 0.3147 - val_mae: 0.3254\n"
          ],
          "name": "stdout"
        }
      ]
    },
    {
      "cell_type": "code",
      "metadata": {
        "id": "dx3W6RxiVlWa"
      },
      "source": [
        "checkpoint_path = os.path.join(projectFolder, 'model/cp-{epoch:02d}.ckpt')\n",
        "checkpoint_dir = os.path.dirname(checkpoint_path)"
      ],
      "execution_count": 11,
      "outputs": []
    },
    {
      "cell_type": "code",
      "metadata": {
        "id": "2QIhgXuk_CIy",
        "colab": {
          "base_uri": "https://localhost:8080/"
        },
        "outputId": "ca0aa67d-1154-4296-8201-c72dd092d820"
      },
      "source": [
        "bert_model.save(os.path.join(projectFolder, 'model/'), save_format='tf')\n",
        "bert_model.save_weights(checkpoint_path.format(epoch=2))"
      ],
      "execution_count": 13,
      "outputs": [
        {
          "output_type": "stream",
          "text": [
            "INFO:tensorflow:Assets written to: ./drive/My Drive/Colab Notebooks/AmazonReview/model/assets\n"
          ],
          "name": "stdout"
        }
      ]
    },
    {
      "cell_type": "code",
      "metadata": {
        "id": "n68xWTPhGHnS",
        "colab": {
          "base_uri": "https://localhost:8080/",
          "height": 162
        },
        "outputId": "37a88ff4-ba94-49a4-c331-bb4ec874c98c"
      },
      "source": [
        "# A trick to keep Google colab running without shutdown kernel due to inactivity\r\n",
        "# Great for overnight training without losing result on the 2nd morning\r\n",
        "while True:pass"
      ],
      "execution_count": 25,
      "outputs": [
        {
          "output_type": "error",
          "ename": "KeyboardInterrupt",
          "evalue": "ignored",
          "traceback": [
            "\u001b[0;31m---------------------------------------------------------------------------\u001b[0m",
            "\u001b[0;31mKeyboardInterrupt\u001b[0m                         Traceback (most recent call last)",
            "\u001b[0;32m<ipython-input-25-534b7a74019f>\u001b[0m in \u001b[0;36m<module>\u001b[0;34m()\u001b[0m\n\u001b[0;32m----> 1\u001b[0;31m \u001b[0;32mwhile\u001b[0m \u001b[0;32mTrue\u001b[0m\u001b[0;34m:\u001b[0m\u001b[0;32mpass\u001b[0m\u001b[0;34m\u001b[0m\u001b[0;34m\u001b[0m\u001b[0m\n\u001b[0m",
            "\u001b[0;31mKeyboardInterrupt\u001b[0m: "
          ]
        }
      ]
    },
    {
      "cell_type": "markdown",
      "metadata": {
        "id": "2VVA-KElFjB0"
      },
      "source": [
        "**Test Validation**"
      ]
    },
    {
      "cell_type": "code",
      "metadata": {
        "id": "COOkkgnhDHah"
      },
      "source": [
        "# LOAD trained BERT MODEL\n",
        "import keras\n",
        "from transformers import TFBertForSequenceClassification\n",
        "reconstructed_model = TFBertForSequenceClassification.from_pretrained('bert-large-cased',num_labels=1)\n",
        "reconstructed_model.load_weights(checkpoint_path.format(epoch=2))\n",
        "reconstructed_model = keras.models.load_model(os.path.join(projectFolder, 'model/'), compile=True)\n",
        "#reloaded_result = reconstructed_model([test_x, test_mask], training=False)\n",
        "#reconstructed_model.summary()"
      ],
      "execution_count": null,
      "outputs": []
    },
    {
      "cell_type": "code",
      "metadata": {
        "id": "KPYhKBoxVA2j",
        "colab": {
          "base_uri": "https://localhost:8080/"
        },
        "outputId": "9d7e5006-3e26-4d56-8277-b2f0c831c40b"
      },
      "source": [
        "#Compute prediction score on test set\r\n",
        "print(test_y.shape)\r\n",
        "test_prediction = bert_model.predict([test_x, test_mask], batch_size=16)\r\n",
        "test_prediction_flat = np.array(test_prediction[0]).ravel()\r\n",
        "print(test_prediction_flat.shape)"
      ],
      "execution_count": 29,
      "outputs": [
        {
          "output_type": "stream",
          "text": [
            "(20000,)\n",
            "(20000,)\n"
          ],
          "name": "stdout"
        }
      ]
    },
    {
      "cell_type": "code",
      "metadata": {
        "colab": {
          "base_uri": "https://localhost:8080/"
        },
        "id": "GxRbBdGdMGl4",
        "outputId": "4ea3c84f-1ee4-4913-e6fc-10bdef71e178"
      },
      "source": [
        "from sklearn.metrics import classification_report\r\n",
        "from sklearn.metrics import mean_squared_error\r\n",
        "\r\n",
        "# Calculate MSE\r\n",
        "print('Mean squared error on the test set is: %.5f'\r\n",
        "    % mean_squared_error(test_y, test_prediction_flat))"
      ],
      "execution_count": 34,
      "outputs": [
        {
          "output_type": "stream",
          "text": [
            "Mean squared error on the test set is: 0.31471\n"
          ],
          "name": "stdout"
        }
      ]
    },
    {
      "cell_type": "markdown",
      "metadata": {
        "id": "ALgfRyTnMZdp"
      },
      "source": [
        "The MSE result 0.315 on the unseen 10% test set looks promising comparing to the baseline, next predict on the given testset from the Kaggle competition for submission"
      ]
    },
    {
      "cell_type": "markdown",
      "metadata": {
        "id": "Fh2j5ZNAcb8l"
      },
      "source": [
        "SUBMISSION SET PREDICTION"
      ]
    },
    {
      "cell_type": "code",
      "metadata": {
        "id": "iW0XMR4zmmvS",
        "colab": {
          "base_uri": "https://localhost:8080/"
        },
        "outputId": "f0b6bc8e-bee3-42ae-f527-c3c4d3eaa732"
      },
      "source": [
        "#load submission text, converted from test.json\n",
        "submission_set= pd.read_csv(os.path.join(projectFolder, \"test_converted.csv\"))\n",
        "\n",
        "#Combine text in several columns\n",
        "\n",
        "submission_set['reviewText']=submission_set['category'] +\" \" + submission_set['summary']+\" \" + submission_set['reviewerID'] + ' '+ submission_set['itemID'] +\" \"+ submission_set['reviewText']\n",
        "\n",
        "#fill empty review text with string\"ok\". I assume consumer  who don't write any specific reviews are generally happy with the purchase.\n",
        "ok = \"ok\"\n",
        "#there were 4 empty review text in total\n",
        "submission_set.fillna(value=ok, inplace=True)\n",
        "#submission_set.head(20)\n",
        "print(\"submission set has total samples of :\", submission_set.shape[0])\n"
      ],
      "execution_count": 14,
      "outputs": [
        {
          "output_type": "stream",
          "text": [
            "submission set has total samples of : 10000\n"
          ],
          "name": "stdout"
        }
      ]
    },
    {
      "cell_type": "code",
      "metadata": {
        "id": "bCSMF1U9dw0e",
        "colab": {
          "base_uri": "https://localhost:8080/",
          "height": 301,
          "referenced_widgets": [
            "37fa1132e84045428cbae3e458f637e4",
            "ba968259065e4289894e232bbadcbddb",
            "4385f15caa52449ea547ac6fbdfa93cd",
            "8f40662f079b46759ac80073d07dc60f",
            "94ad2daf15ef4f9287b6063b7fe22b92",
            "3ea0864eb01f4bec99026825771d4927",
            "51c1c90f5bf946ddb3e2684222bb4c79",
            "4faf574ee0e54dbc9da4654a14e35438"
          ]
        },
        "outputId": "669e74f0-0aad-4e00-c186-e659b1ed77b4"
      },
      "source": [
        "# Apply BERT Tokenizer to submission set data\n",
        "\n",
        "# BERT Max Seq. Length\n",
        "SEQ_LEN = 128\n",
        "\n",
        "# Tokenize the input data\n",
        "from transformers import BertTokenizer\n",
        "tokenizer = BertTokenizer.from_pretrained(\"bert-large-cased\")\n",
        "\n",
        "input_ids2 = []\n",
        "attention_masks2 = []\n",
        "\n",
        "#assign ID in for loops\n",
        "for (idx, row) in submission_set.iterrows():\n",
        "  if row.reviewText != \"\":\n",
        "    sample2 = tokenizer(row.reviewText, max_length=SEQ_LEN, padding='max_length', truncation=True)\n",
        "    input_ids2.append(sample2['input_ids'])\n",
        "    attention_masks2.append(sample2['attention_mask'])\n",
        "\n",
        "\n",
        "len(input_ids2), len(attention_masks2)\n",
        "\n",
        "input_ids2 = np.asarray(input_ids2)\n",
        "attention_masks2 = np.array(attention_masks2)\n",
        "\n",
        "input_ids2, attention_masks2"
      ],
      "execution_count": 15,
      "outputs": [
        {
          "output_type": "display_data",
          "data": {
            "application/vnd.jupyter.widget-view+json": {
              "model_id": "37fa1132e84045428cbae3e458f637e4",
              "version_minor": 0,
              "version_major": 2
            },
            "text/plain": [
              "HBox(children=(FloatProgress(value=0.0, description='Downloading', max=213450.0, style=ProgressStyle(descripti…"
            ]
          },
          "metadata": {
            "tags": []
          }
        },
        {
          "output_type": "stream",
          "text": [
            "\n"
          ],
          "name": "stdout"
        },
        {
          "output_type": "execute_result",
          "data": {
            "text/plain": [
              "(array([[  101,  7312, 19420, ...,     0,     0,     0],\n",
              "        [  101,  7312,  6082, ...,  1212,  1142,   102],\n",
              "        [  101,  7312, 25764, ...,     0,     0,     0],\n",
              "        ...,\n",
              "        [  101,  5990, 27652, ...,     0,     0,     0],\n",
              "        [  101, 13069,  2977, ...,     0,     0,     0],\n",
              "        [  101,  7312,  4368, ...,     0,     0,     0]]),\n",
              " array([[1, 1, 1, ..., 0, 0, 0],\n",
              "        [1, 1, 1, ..., 1, 1, 1],\n",
              "        [1, 1, 1, ..., 0, 0, 0],\n",
              "        ...,\n",
              "        [1, 1, 1, ..., 0, 0, 0],\n",
              "        [1, 1, 1, ..., 0, 0, 0],\n",
              "        [1, 1, 1, ..., 0, 0, 0]]))"
            ]
          },
          "metadata": {
            "tags": []
          },
          "execution_count": 15
        }
      ]
    },
    {
      "cell_type": "code",
      "metadata": {
        "id": "8ONAnjD5cd3P",
        "colab": {
          "base_uri": "https://localhost:8080/"
        },
        "outputId": "3c3b33cb-8c87-4a8f-8b7f-7852f42bd20b"
      },
      "source": [
        "#Used trained BERT model to predict on submission set\n",
        "submission= bert_model.predict([input_ids2, attention_masks2], batch_size=16)\n",
        "print(\"classfier output: \", submission)"
      ],
      "execution_count": 16,
      "outputs": [
        {
          "output_type": "stream",
          "text": [
            "classfier output:  TFSequenceClassifierOutput(loss=None, logits=array([[5.0299253],\n",
            "       [5.0323496],\n",
            "       [4.926212 ],\n",
            "       ...,\n",
            "       [4.973816 ],\n",
            "       [2.976825 ],\n",
            "       [4.459152 ]], dtype=float32), hidden_states=None, attentions=None)\n"
          ],
          "name": "stdout"
        }
      ]
    },
    {
      "cell_type": "code",
      "metadata": {
        "colab": {
          "base_uri": "https://localhost:8080/"
        },
        "id": "so_UIxFTiCBB",
        "outputId": "f80f2fba-c890-4e30-bb88-61bab3c83028"
      },
      "source": [
        "submission_array = np.array(submission[0]).ravel()\n",
        "print(submission_array.size)\n",
        "print(submission_array)\n",
        "submission_array_2d= np.expand_dims(submission_array,axis=1)\n",
        "print(submission_array_2d)"
      ],
      "execution_count": 17,
      "outputs": [
        {
          "output_type": "stream",
          "text": [
            "10000\n",
            "[5.0299253 5.0323496 4.926212  ... 4.973816  2.976825  4.459152 ]\n",
            "[[5.0299253]\n",
            " [5.0323496]\n",
            " [4.926212 ]\n",
            " ...\n",
            " [4.973816 ]\n",
            " [2.976825 ]\n",
            " [4.459152 ]]\n"
          ],
          "name": "stdout"
        }
      ]
    },
    {
      "cell_type": "code",
      "metadata": {
        "id": "PHlmxvPZ0GhD"
      },
      "source": [
        "#Cap all output to be within 5. \r\n",
        "for i in range(submission_array_2d.shape[0]): \r\n",
        "  if submission_array_2d[i,0]>5:\r\n",
        "    submission_array_2d[i,0]=5\r\n",
        "    print(submission_array_2d)"
      ],
      "execution_count": null,
      "outputs": []
    },
    {
      "cell_type": "code",
      "metadata": {
        "id": "cB2BOdZN0juI",
        "colab": {
          "base_uri": "https://localhost:8080/",
          "height": 639
        },
        "outputId": "64a17ce6-660f-4cc3-b9e2-b11ef52034b1"
      },
      "source": [
        "#load rating pairs.csv , append output to prediction column\n",
        "rating_pairs= pd.read_csv(os.path.join(projectFolder, \"rating_pairs.csv\"))\n",
        "rating_pairs['prediction']=submission_array_2d\n",
        "rating_pairs.to_csv(os.path.join(projectFolder,'submission_reg_2epochs_colab_final.csv'))\n",
        "rating_pairs.head(20)"
      ],
      "execution_count": 23,
      "outputs": [
        {
          "output_type": "execute_result",
          "data": {
            "text/html": [
              "<div>\n",
              "<style scoped>\n",
              "    .dataframe tbody tr th:only-of-type {\n",
              "        vertical-align: middle;\n",
              "    }\n",
              "\n",
              "    .dataframe tbody tr th {\n",
              "        vertical-align: top;\n",
              "    }\n",
              "\n",
              "    .dataframe thead th {\n",
              "        text-align: right;\n",
              "    }\n",
              "</style>\n",
              "<table border=\"1\" class=\"dataframe\">\n",
              "  <thead>\n",
              "    <tr style=\"text-align: right;\">\n",
              "      <th></th>\n",
              "      <th>userID-itemID</th>\n",
              "      <th>prediction</th>\n",
              "    </tr>\n",
              "  </thead>\n",
              "  <tbody>\n",
              "    <tr>\n",
              "      <th>0</th>\n",
              "      <td>u32476110-p76243483</td>\n",
              "      <td>5.000000</td>\n",
              "    </tr>\n",
              "    <tr>\n",
              "      <th>1</th>\n",
              "      <td>u36732410-p92485419</td>\n",
              "      <td>5.000000</td>\n",
              "    </tr>\n",
              "    <tr>\n",
              "      <th>2</th>\n",
              "      <td>u85385007-p40031588</td>\n",
              "      <td>4.926212</td>\n",
              "    </tr>\n",
              "    <tr>\n",
              "      <th>3</th>\n",
              "      <td>u30715529-p88719785</td>\n",
              "      <td>5.000000</td>\n",
              "    </tr>\n",
              "    <tr>\n",
              "      <th>4</th>\n",
              "      <td>u95909892-p59188380</td>\n",
              "      <td>5.000000</td>\n",
              "    </tr>\n",
              "    <tr>\n",
              "      <th>5</th>\n",
              "      <td>u35702954-p61764300</td>\n",
              "      <td>4.282990</td>\n",
              "    </tr>\n",
              "    <tr>\n",
              "      <th>6</th>\n",
              "      <td>u90942104-p81970157</td>\n",
              "      <td>4.936156</td>\n",
              "    </tr>\n",
              "    <tr>\n",
              "      <th>7</th>\n",
              "      <td>u06812921-p62266491</td>\n",
              "      <td>4.388901</td>\n",
              "    </tr>\n",
              "    <tr>\n",
              "      <th>8</th>\n",
              "      <td>u81370492-p59452155</td>\n",
              "      <td>4.860916</td>\n",
              "    </tr>\n",
              "    <tr>\n",
              "      <th>9</th>\n",
              "      <td>u54243860-p80964750</td>\n",
              "      <td>5.000000</td>\n",
              "    </tr>\n",
              "    <tr>\n",
              "      <th>10</th>\n",
              "      <td>u37818745-p92749519</td>\n",
              "      <td>4.877195</td>\n",
              "    </tr>\n",
              "    <tr>\n",
              "      <th>11</th>\n",
              "      <td>u83618720-p86149545</td>\n",
              "      <td>4.987243</td>\n",
              "    </tr>\n",
              "    <tr>\n",
              "      <th>12</th>\n",
              "      <td>u56305593-p71316832</td>\n",
              "      <td>5.000000</td>\n",
              "    </tr>\n",
              "    <tr>\n",
              "      <th>13</th>\n",
              "      <td>u90286446-p39047730</td>\n",
              "      <td>5.000000</td>\n",
              "    </tr>\n",
              "    <tr>\n",
              "      <th>14</th>\n",
              "      <td>u68123062-p24579999</td>\n",
              "      <td>4.994331</td>\n",
              "    </tr>\n",
              "    <tr>\n",
              "      <th>15</th>\n",
              "      <td>u13954129-p11200676</td>\n",
              "      <td>4.935665</td>\n",
              "    </tr>\n",
              "    <tr>\n",
              "      <th>16</th>\n",
              "      <td>u93501804-p35055000</td>\n",
              "      <td>5.000000</td>\n",
              "    </tr>\n",
              "    <tr>\n",
              "      <th>17</th>\n",
              "      <td>u01686516-p44638220</td>\n",
              "      <td>5.000000</td>\n",
              "    </tr>\n",
              "    <tr>\n",
              "      <th>18</th>\n",
              "      <td>u08428905-p11132424</td>\n",
              "      <td>3.251128</td>\n",
              "    </tr>\n",
              "    <tr>\n",
              "      <th>19</th>\n",
              "      <td>u66414030-p66743807</td>\n",
              "      <td>5.000000</td>\n",
              "    </tr>\n",
              "  </tbody>\n",
              "</table>\n",
              "</div>"
            ],
            "text/plain": [
              "          userID-itemID  prediction\n",
              "0   u32476110-p76243483    5.000000\n",
              "1   u36732410-p92485419    5.000000\n",
              "2   u85385007-p40031588    4.926212\n",
              "3   u30715529-p88719785    5.000000\n",
              "4   u95909892-p59188380    5.000000\n",
              "5   u35702954-p61764300    4.282990\n",
              "6   u90942104-p81970157    4.936156\n",
              "7   u06812921-p62266491    4.388901\n",
              "8   u81370492-p59452155    4.860916\n",
              "9   u54243860-p80964750    5.000000\n",
              "10  u37818745-p92749519    4.877195\n",
              "11  u83618720-p86149545    4.987243\n",
              "12  u56305593-p71316832    5.000000\n",
              "13  u90286446-p39047730    5.000000\n",
              "14  u68123062-p24579999    4.994331\n",
              "15  u13954129-p11200676    4.935665\n",
              "16  u93501804-p35055000    5.000000\n",
              "17  u01686516-p44638220    5.000000\n",
              "18  u08428905-p11132424    3.251128\n",
              "19  u66414030-p66743807    5.000000"
            ]
          },
          "metadata": {
            "tags": []
          },
          "execution_count": 23
        }
      ]
    },
    {
      "cell_type": "code",
      "metadata": {
        "id": "YQ4m3Z_GJtPq",
        "colab": {
          "base_uri": "https://localhost:8080/",
          "height": 17
        },
        "outputId": "252f5493-113b-4a81-b049-c1c5f31ad28a"
      },
      "source": [
        "# output result in csv to submit on kaggle\n",
        "rating_pairs.to_csv('submission_reg_2epochs_colab_final.csv')\n",
        "from google.colab import files\n",
        "files.download(\"submission_reg_2epochs_colab_final.csv\")\n"
      ],
      "execution_count": 24,
      "outputs": [
        {
          "output_type": "display_data",
          "data": {
            "application/javascript": [
              "\n",
              "    async function download(id, filename, size) {\n",
              "      if (!google.colab.kernel.accessAllowed) {\n",
              "        return;\n",
              "      }\n",
              "      const div = document.createElement('div');\n",
              "      const label = document.createElement('label');\n",
              "      label.textContent = `Downloading \"${filename}\": `;\n",
              "      div.appendChild(label);\n",
              "      const progress = document.createElement('progress');\n",
              "      progress.max = size;\n",
              "      div.appendChild(progress);\n",
              "      document.body.appendChild(div);\n",
              "\n",
              "      const buffers = [];\n",
              "      let downloaded = 0;\n",
              "\n",
              "      const channel = await google.colab.kernel.comms.open(id);\n",
              "      // Send a message to notify the kernel that we're ready.\n",
              "      channel.send({})\n",
              "\n",
              "      for await (const message of channel.messages) {\n",
              "        // Send a message to notify the kernel that we're ready.\n",
              "        channel.send({})\n",
              "        if (message.buffers) {\n",
              "          for (const buffer of message.buffers) {\n",
              "            buffers.push(buffer);\n",
              "            downloaded += buffer.byteLength;\n",
              "            progress.value = downloaded;\n",
              "          }\n",
              "        }\n",
              "      }\n",
              "      const blob = new Blob(buffers, {type: 'application/binary'});\n",
              "      const a = document.createElement('a');\n",
              "      a.href = window.URL.createObjectURL(blob);\n",
              "      a.download = filename;\n",
              "      div.appendChild(a);\n",
              "      a.click();\n",
              "      div.remove();\n",
              "    }\n",
              "  "
            ],
            "text/plain": [
              "<IPython.core.display.Javascript object>"
            ]
          },
          "metadata": {
            "tags": []
          }
        },
        {
          "output_type": "display_data",
          "data": {
            "application/javascript": [
              "download(\"download_897c66d4-5a37-4fd5-88ea-6e665e4c8612\", \"submission_reg_2epochs_colab_final.csv\", 322411)"
            ],
            "text/plain": [
              "<IPython.core.display.Javascript object>"
            ]
          },
          "metadata": {
            "tags": []
          }
        }
      ]
    },
    {
      "cell_type": "markdown",
      "metadata": {
        "id": "ZjSMohTDSqX1"
      },
      "source": [
        "**The final submission result on Kaggle has a MSE score of 0.30875, ranking top5 on the leaderboard. The BERT model provides state of the art performance for the review preidcition task.**"
      ]
    }
  ]
}